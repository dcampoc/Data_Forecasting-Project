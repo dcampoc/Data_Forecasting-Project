{
 "cells": [
  {
   "cell_type": "markdown",
   "metadata": {},
   "source": [
    "# Second algorithm: Train LTSM network based on previously organized data"
   ]
  },
  {
   "cell_type": "code",
   "execution_count": 1,
   "metadata": {},
   "outputs": [],
   "source": [
    "import tensorflow as tf\n",
    "import matplotlib.pyplot as plt \n",
    "from tensorflow.keras.models import Sequential\n",
    "from tensorflow.keras.layers import LSTM, Dropout, Dense\n",
    "from tensorflow.keras.callbacks import EarlyStopping, ModelCheckpoint\n",
    "import pickle as pkl\n",
    "import numpy as np\n",
    "import random"
   ]
  },
  {
   "cell_type": "markdown",
   "metadata": {},
   "source": [
    "Loading organized dataset and scaler object for the target variable"
   ]
  },
  {
   "cell_type": "code",
   "execution_count": 2,
   "metadata": {},
   "outputs": [],
   "source": [
    "filehandler = open('dataset_final.pkl', 'rb') \n",
    "dataset_final = pkl.load(filehandler)\n",
    "filehandler.close()\n",
    "dataset_input_net, dataset_output_net = dataset_final\n",
    "# dataset_output_net = dataset_output_net.reshape((-1,6))"
   ]
  },
  {
   "cell_type": "markdown",
   "metadata": {},
   "source": [
    "Initialize seeds for reproducibility and set hyperparameters"
   ]
  },
  {
   "cell_type": "code",
   "execution_count": 3,
   "metadata": {},
   "outputs": [],
   "source": [
    "random.seed(1)\n",
    "np.random.seed(1)\n",
    "tf.random.set_seed(1)\n",
    "\n",
    "NUM_EPOCHS = 1000\n",
    "LEARNING_RATE = 1e-3\n",
    "DECAY = 1e-5\n",
    "PATIENCE = 20"
   ]
  },
  {
   "cell_type": "markdown",
   "metadata": {},
   "source": [
    "Create sequential model consisting of three LSTM layers and two dense layers that continously decrease their size until arrive to 6 outputs corresponding to the shifted version of the target variable "
   ]
  },
  {
   "cell_type": "code",
   "execution_count": 4,
   "metadata": {},
   "outputs": [],
   "source": [
    "model = Sequential()\n",
    "model.add(LSTM(256, activation='tanh', return_sequences=True))\n",
    "model.add(Dropout(0.2))\n",
    "model.add(LSTM(128, activation='tanh', return_sequences=True))\n",
    "model.add(Dropout(0.2))\n",
    "model.add(LSTM(64, activation='relu', return_sequences=False))\n",
    "model.add(Dense(32, activation ='relu'))\n",
    "model.add(Dense(6, activation ='relu'))"
   ]
  },
  {
   "cell_type": "markdown",
   "metadata": {},
   "source": [
    "Training the neural net"
   ]
  },
  {
   "cell_type": "code",
   "execution_count": 5,
   "metadata": {},
   "outputs": [
    {
     "name": "stdout",
     "output_type": "stream",
     "text": [
      "Train on 13785 samples, validate on 5908 samples\n",
      "Epoch 1/1000\n",
      "13785/13785 [==============================] - 18s 1ms/sample - loss: 5.3450e-04 - mean_absolute_error: 0.0104 - val_loss: 2.5209e-04 - val_mean_absolute_error: 0.0075\n",
      "Epoch 2/1000\n",
      "13785/13785 [==============================] - 9s 657us/sample - loss: 3.6609e-04 - mean_absolute_error: 0.0084 - val_loss: 2.3851e-04 - val_mean_absolute_error: 0.0065error: 0.00 - ETA: 3s  - ETA: 0s - loss: 3.5885e-04 - mean_absolute_erro\n",
      "Epoch 3/1000\n",
      "13785/13785 [==============================] - 9s 661us/sample - loss: 3.2935e-04 - mean_absolute_error: 0.0079 - val_loss: 1.8746e-04 - val_mean_absolute_error: 0.0062\n",
      "Epoch 4/1000\n",
      "13785/13785 [==============================] - 9s 662us/sample - loss: 2.7443e-04 - mean_absolute_error: 0.0074 - val_loss: 1.8402e-04 - val_mean_absolute_error: 0.0066\n",
      "Epoch 5/1000\n",
      "13785/13785 [==============================] - 9s 663us/sample - loss: 2.5125e-04 - mean_absolute_error: 0.0070 - val_loss: 1.6134e-04 - val_mean_absolute_error: 0.0063\n",
      "Epoch 6/1000\n",
      "13785/13785 [==============================] - 9s 668us/sample - loss: 2.2339e-04 - mean_absolute_error: 0.0062 - val_loss: 1.4670e-04 - val_mean_absolute_error: 0.0047\n",
      "Epoch 7/1000\n",
      "13785/13785 [==============================] - 9s 662us/sample - loss: 2.1962e-04 - mean_absolute_error: 0.0061 - val_loss: 1.5231e-04 - val_mean_absolute_error: 0.0055\n",
      "Epoch 8/1000\n",
      "13785/13785 [==============================] - 9s 670us/sample - loss: 2.1571e-04 - mean_absolute_error: 0.0060 - val_loss: 1.4058e-04 - val_mean_absolute_error: 0.0044\n",
      "Epoch 9/1000\n",
      "13785/13785 [==============================] - 9s 676us/sample - loss: 2.1499e-04 - mean_absolute_error: 0.0059 - val_loss: 1.4171e-04 - val_mean_absolute_error: 0.0047\n",
      "Epoch 10/1000\n",
      "13785/13785 [==============================] - 10s 702us/sample - loss: 2.1557e-04 - mean_absolute_error: 0.0059 - val_loss: 1.5909e-04 - val_mean_absolute_error: 0.0049\n",
      "Epoch 11/1000\n",
      "13785/13785 [==============================] - 10s 702us/sample - loss: 2.1061e-04 - mean_absolute_error: 0.0058 - val_loss: 1.4353e-04 - val_mean_absolute_error: 0.0051\n",
      "Epoch 12/1000\n",
      "13785/13785 [==============================] - 9s 674us/sample - loss: 2.1361e-04 - mean_absolute_error: 0.0058 - val_loss: 1.4093e-04 - val_mean_absolute_error: 0.0048\n",
      "Epoch 13/1000\n",
      "13785/13785 [==============================] - 10s 700us/sample - loss: 2.1243e-04 - mean_absolute_error: 0.0059 - val_loss: 1.3822e-04 - val_mean_absolute_error: 0.0049\n",
      "Epoch 14/1000\n",
      "13785/13785 [==============================] - 9s 681us/sample - loss: 2.1657e-04 - mean_absolute_error: 0.0060 - val_loss: 1.4113e-04 - val_mean_absolute_error: 0.0047\n",
      "Epoch 15/1000\n",
      "13785/13785 [==============================] - 10s 713us/sample - loss: 2.0952e-04 - mean_absolute_error: 0.0057 - val_loss: 1.3696e-04 - val_mean_absolute_error: 0.0046\n",
      "Epoch 16/1000\n",
      "13785/13785 [==============================] - 10s 693us/sample - loss: 2.1908e-04 - mean_absolute_error: 0.0059 - val_loss: 1.5456e-04 - val_mean_absolute_error: 0.0052\n",
      "Epoch 17/1000\n",
      "13785/13785 [==============================] - 9s 685us/sample - loss: 2.1187e-04 - mean_absolute_error: 0.0058 - val_loss: 1.3563e-04 - val_mean_absolute_error: 0.0052\n",
      "Epoch 18/1000\n",
      "13785/13785 [==============================] - 9s 685us/sample - loss: 2.0681e-04 - mean_absolute_error: 0.0057 - val_loss: 1.3646e-04 - val_mean_absolute_error: 0.0048\n",
      "Epoch 19/1000\n",
      "13785/13785 [==============================] - 10s 693us/sample - loss: 2.1055e-04 - mean_absolute_error: 0.0058 - val_loss: 1.3369e-04 - val_mean_absolute_error: 0.0043\n",
      "Epoch 20/1000\n",
      "13785/13785 [==============================] - 10s 691us/sample - loss: 2.0775e-04 - mean_absolute_error: 0.0057 - val_loss: 1.4101e-04 - val_mean_absolute_error: 0.0050\n",
      "Epoch 21/1000\n",
      "13785/13785 [==============================] - 9s 687us/sample - loss: 2.1000e-04 - mean_absolute_error: 0.0057 - val_loss: 1.4651e-04 - val_mean_absolute_error: 0.0062\n",
      "Epoch 22/1000\n",
      "13785/13785 [==============================] - 10s 691us/sample - loss: 2.1123e-04 - mean_absolute_error: 0.0057 - val_loss: 1.3785e-04 - val_mean_absolute_error: 0.0046\n",
      "Epoch 23/1000\n",
      "13785/13785 [==============================] - 10s 690us/sample - loss: 2.1008e-04 - mean_absolute_error: 0.0057 - val_loss: 1.3692e-04 - val_mean_absolute_error: 0.0044\n",
      "Epoch 24/1000\n",
      "13785/13785 [==============================] - 9s 689us/sample - loss: 2.0835e-04 - mean_absolute_error: 0.0057 - val_loss: 1.3728e-04 - val_mean_absolute_error: 0.0043\n",
      "Epoch 25/1000\n",
      "13785/13785 [==============================] - 10s 691us/sample - loss: 2.1106e-04 - mean_absolute_error: 0.0058 - val_loss: 1.4970e-04 - val_mean_absolute_error: 0.0048\n",
      "Epoch 26/1000\n",
      "13785/13785 [==============================] - 10s 690us/sample - loss: 2.0665e-04 - mean_absolute_error: 0.0056 - val_loss: 1.4345e-04 - val_mean_absolute_error: 0.0044\n",
      "Epoch 27/1000\n",
      "13785/13785 [==============================] - 10s 694us/sample - loss: 2.0885e-04 - mean_absolute_error: 0.0057 - val_loss: 1.3257e-04 - val_mean_absolute_error: 0.0042\n",
      "Epoch 28/1000\n",
      "13785/13785 [==============================] - 10s 698us/sample - loss: 2.0834e-04 - mean_absolute_error: 0.0057 - val_loss: 1.3440e-04 - val_mean_absolute_error: 0.0042\n",
      "Epoch 29/1000\n",
      "13785/13785 [==============================] - 14s 985us/sample - loss: 2.0887e-04 - mean_absolute_error: 0.0056 - val_loss: 1.3415e-04 - val_mean_absolute_error: 0.0045\n",
      "Epoch 30/1000\n",
      "13785/13785 [==============================] - 12s 905us/sample - loss: 2.0811e-04 - mean_absolute_error: 0.0057 - val_loss: 1.3563e-04 - val_mean_absolute_error: 0.0045\n",
      "Epoch 31/1000\n",
      "13785/13785 [==============================] - 11s 827us/sample - loss: 2.0786e-04 - mean_absolute_error: 0.0057 - val_loss: 1.3951e-04 - val_mean_absolute_error: 0.0044\n",
      "Epoch 32/1000\n",
      "13785/13785 [==============================] - 12s 864us/sample - loss: 2.0304e-04 - mean_absolute_error: 0.0055 - val_loss: 1.3241e-04 - val_mean_absolute_error: 0.0042\n",
      "Epoch 33/1000\n",
      "13785/13785 [==============================] - 13s 927us/sample - loss: 2.0628e-04 - mean_absolute_error: 0.0056 - val_loss: 1.4089e-04 - val_mean_absolute_error: 0.0049\n",
      "Epoch 34/1000\n",
      "13785/13785 [==============================] - 12s 857us/sample - loss: 2.0642e-04 - mean_absolute_error: 0.0057 - val_loss: 1.3745e-04 - val_mean_absolute_error: 0.0050\n",
      "Epoch 35/1000\n",
      "13785/13785 [==============================] - 11s 792us/sample - loss: 2.0424e-04 - mean_absolute_error: 0.0055 - val_loss: 1.3514e-04 - val_mean_absolute_error: 0.0045\n",
      "Epoch 36/1000\n",
      "13785/13785 [==============================] - 11s 784us/sample - loss: 2.0343e-04 - mean_absolute_error: 0.0055 - val_loss: 1.4012e-04 - val_mean_absolute_error: 0.0044\n",
      "Epoch 37/1000\n",
      "13785/13785 [==============================] - 10s 761us/sample - loss: 2.0787e-04 - mean_absolute_error: 0.0056 - val_loss: 1.4592e-04 - val_mean_absolute_error: 0.0055\n",
      "Epoch 38/1000\n",
      "13785/13785 [==============================] - 10s 751us/sample - loss: 2.0464e-04 - mean_absolute_error: 0.0056 - val_loss: 1.3161e-04 - val_mean_absolute_error: 0.0045\n",
      "Epoch 39/1000\n",
      "13785/13785 [==============================] - 11s 799us/sample - loss: 2.0961e-04 - mean_absolute_error: 0.0057 - val_loss: 1.3309e-04 - val_mean_absolute_error: 0.0044\n",
      "Epoch 40/1000\n",
      "13785/13785 [==============================] - 11s 786us/sample - loss: 2.0185e-04 - mean_absolute_error: 0.0055 - val_loss: 1.3374e-04 - val_mean_absolute_error: 0.0044\n",
      "Epoch 41/1000\n",
      "13785/13785 [==============================] - 11s 808us/sample - loss: 2.0344e-04 - mean_absolute_error: 0.0055 - val_loss: 1.4080e-04 - val_mean_absolute_error: 0.0046\n",
      "Epoch 42/1000\n",
      "13785/13785 [==============================] - 11s 762us/sample - loss: 2.0601e-04 - mean_absolute_error: 0.0055 - val_loss: 1.3548e-04 - val_mean_absolute_error: 0.0042\n",
      "Epoch 43/1000\n",
      "13785/13785 [==============================] - 11s 795us/sample - loss: 2.0276e-04 - mean_absolute_error: 0.0055 - val_loss: 1.3778e-04 - val_mean_absolute_error: 0.0045\n",
      "Epoch 44/1000\n",
      "13785/13785 [==============================] - 10s 757us/sample - loss: 2.0528e-04 - mean_absolute_error: 0.0056 - val_loss: 1.4064e-04 - val_mean_absolute_error: 0.0045\n",
      "Epoch 45/1000\n"
     ]
    },
    {
     "name": "stdout",
     "output_type": "stream",
     "text": [
      "13785/13785 [==============================] - 10s 721us/sample - loss: 2.0085e-04 - mean_absolute_error: 0.0055 - val_loss: 1.3205e-04 - val_mean_absolute_error: 0.0042\n",
      "Epoch 46/1000\n",
      "13785/13785 [==============================] - 11s 776us/sample - loss: 2.0243e-04 - mean_absolute_error: 0.0055 - val_loss: 1.4102e-04 - val_mean_absolute_error: 0.0043\n",
      "Epoch 47/1000\n",
      "13785/13785 [==============================] - 10s 706us/sample - loss: 2.0608e-04 - mean_absolute_error: 0.0056 - val_loss: 1.5833e-04 - val_mean_absolute_error: 0.0070\n",
      "Epoch 48/1000\n",
      "13785/13785 [==============================] - 10s 711us/sample - loss: 2.0211e-04 - mean_absolute_error: 0.0055 - val_loss: 1.3931e-04 - val_mean_absolute_error: 0.0043\n",
      "Epoch 49/1000\n",
      "13785/13785 [==============================] - 10s 704us/sample - loss: 2.0185e-04 - mean_absolute_error: 0.0055 - val_loss: 1.4277e-04 - val_mean_absolute_error: 0.0052\n",
      "Epoch 50/1000\n",
      "13785/13785 [==============================] - 10s 695us/sample - loss: 2.0117e-04 - mean_absolute_error: 0.0054 - val_loss: 1.3871e-04 - val_mean_absolute_error: 0.0044\n",
      "Epoch 51/1000\n",
      "13785/13785 [==============================] - 9s 689us/sample - loss: 2.0039e-04 - mean_absolute_error: 0.0054 - val_loss: 1.4091e-04 - val_mean_absolute_error: 0.0043\n",
      "Epoch 52/1000\n",
      "13785/13785 [==============================] - 10s 722us/sample - loss: 2.0136e-04 - mean_absolute_error: 0.0055 - val_loss: 1.3381e-04 - val_mean_absolute_error: 0.0042\n",
      "Epoch 53/1000\n",
      "13785/13785 [==============================] - 9s 673us/sample - loss: 2.0127e-04 - mean_absolute_error: 0.0054 - val_loss: 1.3543e-04 - val_mean_absolute_error: 0.0044\n",
      "Epoch 54/1000\n",
      "13785/13785 [==============================] - 9s 674us/sample - loss: 1.9969e-04 - mean_absolute_error: 0.0054 - val_loss: 1.4750e-04 - val_mean_absolute_error: 0.0051\n",
      "Epoch 55/1000\n",
      "13785/13785 [==============================] - 10s 715us/sample - loss: 1.9998e-04 - mean_absolute_error: 0.0055 - val_loss: 1.3687e-04 - val_mean_absolute_error: 0.0047\n",
      "Epoch 56/1000\n",
      "13785/13785 [==============================] - 9s 686us/sample - loss: 2.0392e-04 - mean_absolute_error: 0.0055 - val_loss: 1.4845e-04 - val_mean_absolute_error: 0.0054\n",
      "Epoch 57/1000\n",
      "13785/13785 [==============================] - 10s 701us/sample - loss: 2.0464e-04 - mean_absolute_error: 0.0056 - val_loss: 1.4223e-04 - val_mean_absolute_error: 0.0050\n",
      "Epoch 58/1000\n",
      "13785/13785 [==============================] - 10s 690us/sample - loss: 1.9918e-04 - mean_absolute_error: 0.0054 - val_loss: 1.3908e-04 - val_mean_absolute_error: 0.0044\n"
     ]
    }
   ],
   "source": [
    "opt = tf.keras.optimizers.Adam(lr=LEARNING_RATE, decay=DECAY)\n",
    "model.compile(loss='mse', optimizer=opt, metrics=[tf.keras.metrics.MeanAbsoluteError()])\n",
    "history = model.fit(dataset_input_net, dataset_output_net, epochs=NUM_EPOCHS, validation_split=0.3,\n",
    "                    shuffle=True, callbacks = [EarlyStopping(monitor='val_loss', patience=PATIENCE),\n",
    "                                               ModelCheckpoint(filepath='best_model.h5', monitor='val_loss', save_best_only=True)])"
   ]
  },
  {
   "cell_type": "markdown",
   "metadata": {},
   "source": [
    "## Save and plot training results"
   ]
  },
  {
   "cell_type": "code",
   "execution_count": 6,
   "metadata": {},
   "outputs": [],
   "source": [
    "hist_model = history.history\n",
    "filehandler = open('loss_history.pkl', 'wb') \n",
    "pkl.dump(hist_model, filehandler)\n",
    "filehandler.close()"
   ]
  },
  {
   "cell_type": "code",
   "execution_count": 7,
   "metadata": {},
   "outputs": [],
   "source": [
    "filehandler = open('loss_history.pkl', 'rb') \n",
    "hist_model = pkl.load(filehandler)\n",
    "filehandler.close()"
   ]
  },
  {
   "cell_type": "markdown",
   "metadata": {},
   "source": [
    "Loss mean square error (MSE) and mean absolute error (MAE) plots during epochs"
   ]
  },
  {
   "cell_type": "code",
   "execution_count": 8,
   "metadata": {},
   "outputs": [
    {
     "data": {
      "image/png": "[encoded data removed]",
      "text/plain": [
       "<Figure size 432x288 with 1 Axes>"
      ]
     },
     "metadata": {
      "needs_background": "light"
     },
     "output_type": "display_data"
    }
   ],
   "source": [
    "figure = plt.figure()\n",
    "plt.plot(hist_model['loss'], c='red', label='training loss')\n",
    "plt.plot(hist_model['val_loss'], c='blue', label='validation loss')\n",
    "plt.axvline(x=len(hist_model['loss']) - PATIENCE -1)\n",
    "plt.legend()\n",
    "plt.xlabel('Epochs')\n",
    "plt.ylabel('MSE')\n",
    "plt.show()"
   ]
  },
  {
   "cell_type": "code",
   "execution_count": 9,
   "metadata": {},
   "outputs": [
    {
     "data": {
      "image/png": "[encoded data removed]",
      "text/plain": [
       "<Figure size 432x288 with 1 Axes>"
      ]
     },
     "metadata": {
      "needs_background": "light"
     },
     "output_type": "display_data"
    }
   ],
   "source": [
    "figure = plt.figure()\n",
    "plt.plot(hist_model['mean_absolute_error'], c='red', label='training loss')\n",
    "plt.plot(hist_model['val_mean_absolute_error'], c='blue', label='validation loss')\n",
    "plt.axvline(x=len(hist_model['loss']) - PATIENCE -1)\n",
    "plt.legend()\n",
    "plt.xlabel('Epochs')\n",
    "plt.ylabel('Mean absolute error')\n",
    "plt.show()"
   ]
  },
  {
   "cell_type": "markdown",
   "metadata": {},
   "source": [
    "Extract MSE and MAE measurements from the best epoch"
   ]
  },
  {
   "cell_type": "code",
   "execution_count": 10,
   "metadata": {},
   "outputs": [],
   "source": [
    "MSE_train = hist_model['loss'][-(PATIENCE+1)]\n",
    "MSE_val = hist_model['val_loss'][-(PATIENCE+1)]\n",
    "MAE_train = hist_model['mean_absolute_error'][-(PATIENCE+1)]\n",
    "MAE_val = hist_model['val_mean_absolute_error'][-(PATIENCE+1)]\n",
    "best_model_errors = (MSE_train, MSE_val, MAE_train, MAE_val)"
   ]
  },
  {
   "cell_type": "code",
   "execution_count": 11,
   "metadata": {},
   "outputs": [
    {
     "name": "stdout",
     "output_type": "stream",
     "text": [
      "MAE stock_distributed (train): 9.657934188842773\n",
      "MAE stock_distributed (validation): 7.7301554679870605\n"
     ]
    }
   ],
   "source": [
    "filehandler = open('scaler_final.pkl', 'rb') \n",
    "scaler = pkl.load(filehandler)\n",
    "best_model_errors_transformed = tuple([scaler.inverse_transform(np.array(i).reshape(-1,1)) for i in best_model_errors])\n",
    "filehandler.close()\n",
    "print(f'MAE stock_distributed (train): {best_model_errors_transformed[2][0][0]}')\n",
    "print(f'MAE stock_distributed (validation): {best_model_errors_transformed[3][0][0]}')"
   ]
  },
  {
   "cell_type": "markdown",
   "metadata": {},
   "source": [
    "After inverse-transforming the MAE, we have a pretty good idea about the expected errors at predicting future \"stock_distributed\" values  "
   ]
  }
 ],
 "metadata": {
  "kernelspec": {
   "display_name": "tf_gpu_env",
   "language": "python",
   "name": "tf_gpu_env"
  },
  "language_info": {
   "codemirror_mode": {
    "name": "ipython",
    "version": 3
   },
   "file_extension": ".py",
   "mimetype": "text/x-python",
   "name": "python",
   "nbconvert_exporter": "python",
   "pygments_lexer": "ipython3",
   "version": "3.7.7"
  }
 },
 "nbformat": 4,
 "nbformat_minor": 4
}
